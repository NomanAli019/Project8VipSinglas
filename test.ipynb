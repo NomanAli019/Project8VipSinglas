{
 "cells": [
  {
   "cell_type": "code",
   "execution_count": 16,
   "metadata": {},
   "outputs": [],
   "source": [
    "import stripe\n",
    "import time\n",
    "import requests\n",
    "# Replace with your actual Stripe secret key\n",
    "stripe.api_key = \"sk_test_51OxW1UECJwpMr51iS7sFcxI9HctCutMc3VElRfs80idHjh9Dxg32JrIhfwsoLVQmRxZitrre3xk9bMS8IbExiswL00ksqXidmR\"\n",
    "price_id = 'price_1OxaDQECJwpMr51i8Agz2NVs'\n",
    "\n"
   ]
  },
  {
   "cell_type": "code",
   "execution_count": 7,
   "metadata": {},
   "outputs": [],
   "source": [
    "def create_customer_and_subscribe():\n",
    "    \"\"\"Creates a Stripe customer, prompts for subscription purchase, generates a payment link, and verifies payment status.\"\"\"\n",
    "    # Get customer information from the user\n",
    "    customer_name = input(\"Enter customer name: \")\n",
    "    customer_email = input(\"Enter customer email: \")\n",
    "    # Create a Stripe customer\n",
    "    try:\n",
    "        customer = stripe.Customer.create(\n",
    "            email=customer_email,\n",
    "            description=f\"Customer: {customer_name}\"\n",
    "        )\n",
    "        print(f\"Customer created successfully. ID: {customer.id}\")\n",
    "    except stripe.error.StripeError as e:\n",
    "        print(f\"Error creating customer: {e}\")\n",
    "        return\n",
    "    # Define subscription details (replace with your actual plan ID)\n",
    "    # plan_id = \"prod_PnAYRV8fSAQQCx\"\n",
    "    # Create a checkout session to generate a payment link\n",
    "    # try:\n",
    "    session = stripe.checkout.Session.create(\n",
    "        payment_method_types=[\"card\"],\n",
    "        customer=customer.id,\n",
    "        line_items=[\n",
    "            {\n",
    "                \"price\": price_id,\n",
    "                # \"price_data\": {\n",
    "                #     \"currency\": \"usd\",\n",
    "                #     \"product_data\": {\n",
    "                #         \"name\": \"Premium Subscription\"\n",
    "                #     },\n",
    "                #     \"unit_amount\": 1000,  # Replace with your actual price (in cents)\n",
    "                #     # \"interval\": \"month\",  # Adjust interval as needed (e.g., \"year\")\n",
    "                # },\n",
    "                \"quantity\": 1,\n",
    "            }\n",
    "        ],\n",
    "        mode=\"subscription\",\n",
    "        success_url=\"http://your-website.com/success\",  # Replace with your success URL\n",
    "        cancel_url=\"http://your-website.com/cancel\"  # Replace with your cancel URL\n",
    "    )\n",
    "    # time.sleep(50)\n",
    "    print(f\"Payment link generated: {session.url}\")\n",
    "    time.sleep(30)\n",
    "    print(session.payment_status)\n",
    "    print(session.id)\n",
    "    print()\n",
    "    # except stripe.error.StripeError as e:\n",
    "    #     print(f\"Error creating checkout session: {e}\")\n",
    "    #     return\n",
    "    # Verify payment status after redirect from Stripe (not included here)\n",
    "    # You'll need to implement a mechanism to handle the success and cancel redirects\n",
    "    # from Stripe and use the `payment_intent.id` from the URL to check the payment status\n",
    "    # using `stripe.PaymentIntent.retrieve(payment_intent.id)`.\n"
   ]
  },
  {
   "cell_type": "code",
   "execution_count": 12,
   "metadata": {},
   "outputs": [
    {
     "name": "stdout",
     "output_type": "stream",
     "text": [
      "paid\n"
     ]
    }
   ],
   "source": [
    "# Get session ID from URL parameter or browser state (replace with your logic)\n",
    "session = stripe.checkout.Session.retrieve('cs_test_a1jF6fNLMqTwYP3qKevjzdBd2k3niJUJ6jKl6KLUDxSDnl2dwg2FOmwUKN')\n",
    "payment_status = session.payment_status\n",
    "print(payment_status)"
   ]
  },
  {
   "cell_type": "code",
   "execution_count": 17,
   "metadata": {},
   "outputs": [
    {
     "name": "stdout",
     "output_type": "stream",
     "text": [
      "Subscription ID: sub_1OxoLqECJwpMr51irJ1uvx1v - Payment Status: active\n"
     ]
    }
   ],
   "source": [
    "\n",
    "\n",
    "# Customer ID to check (replace with your logic)\n",
    "customer_id = \"cus_PnP9t47RtOEt7d\"\n",
    "\n",
    "try:\n",
    "  subscriptions = stripe.Subscription.list(customer=customer_id)\n",
    "  for subscription in subscriptions.auto_paging_iter():\n",
    "    payment_status = subscription.status\n",
    "\n",
    "    # Process payment based on status\n",
    "    if payment_status == \"active\":\n",
    "      # Customer has paid\n",
    "      print(f\"Subscription ID: {subscription.id} - Payment Successful!\")\n",
    "    else:\n",
    "      # Handle other statuses (unpaid, past_due, etc.)\n",
    "      print(f\"Subscription ID: {subscription.id} - Payment Status: {payment_status}\")\n",
    "\n",
    "except stripe.error.StripeError as e:\n",
    "  print(\"Error retrieving subscriptions:\", e)\n"
   ]
  },
  {
   "cell_type": "code",
   "execution_count": 8,
   "metadata": {},
   "outputs": [
    {
     "name": "stdout",
     "output_type": "stream",
     "text": [
      "Customer created successfully. ID: cus_PnVmlZrZhfZTm4\n",
      "Payment link generated: https://checkout.stripe.com/c/pay/cs_test_a1jF6fNLMqTwYP3qKevjzdBd2k3niJUJ6jKl6KLUDxSDnl2dwg2FOmwUKN#fidkdWxOYHwnPyd1blpxYHZxWjA0Sn1SNFBARk9ydUh3MDRsVG98cUpzSkZyU013ZzdqdVd9cWtOckRXN3FRd3cwf2tqfT1cPTE9X0RpaFVsclI8dmsyXGBAMGhCN1NSU0NuQzNpSDd%2FNlVyNTVvPF19Q19wPCcpJ2N3amhWYHdzYHcnP3F3cGApJ2lkfGpwcVF8dWAnPyd2bGtiaWBabHFgaCcpJ2BrZGdpYFVpZGZgbWppYWB3dic%2FcXdwYHgl\n",
      "unpaid\n",
      "cs_test_a1jF6fNLMqTwYP3qKevjzdBd2k3niJUJ6jKl6KLUDxSDnl2dwg2FOmwUKN\n",
      "\n"
     ]
    }
   ],
   "source": [
    "if __name__ == \"__main__\":\n",
    "    create_customer_and_subscribe()"
   ]
  }
 ],
 "metadata": {
  "kernelspec": {
   "display_name": "env",
   "language": "python",
   "name": "python3"
  },
  "language_info": {
   "codemirror_mode": {
    "name": "ipython",
    "version": 3
   },
   "file_extension": ".py",
   "mimetype": "text/x-python",
   "name": "python",
   "nbconvert_exporter": "python",
   "pygments_lexer": "ipython3",
   "version": "3.11.2"
  }
 },
 "nbformat": 4,
 "nbformat_minor": 2
}
